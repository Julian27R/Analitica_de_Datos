{
  "nbformat": 4,
  "nbformat_minor": 0,
  "metadata": {
    "colab": {
      "provenance": [],
      "authorship_tag": "ABX9TyPgVCWytyVjs2F/2PZqW2W2",
      "include_colab_link": true
    },
    "kernelspec": {
      "name": "python3",
      "display_name": "Python 3"
    },
    "language_info": {
      "name": "python"
    }
  },
  "cells": [
    {
      "cell_type": "markdown",
      "metadata": {
        "id": "view-in-github",
        "colab_type": "text"
      },
      "source": [
        "<a href=\"https://colab.research.google.com/github/Julian27R/Analitica_de_Datos/blob/main/Dashboard_DataChallenge.ipynb\" target=\"_parent\"><img src=\"https://colab.research.google.com/assets/colab-badge.svg\" alt=\"Open In Colab\"/></a>"
      ]
    },
    {
      "cell_type": "markdown",
      "source": [
        "---\n",
        "\n",
        "#**Dasboard Data-challenge**\n",
        "\n",
        "###**Por:**\n",
        "*   **Julián Felipe Gutiérrez Ramírez**\n",
        "*   **Felipe Idárraga Quintero**\n",
        "\n",
        "**Fecha de presentación 19/07/2025**\n",
        "\n",
        "---"
      ],
      "metadata": {
        "id": "uYKHoYpS7TGy"
      }
    },
    {
      "cell_type": "markdown",
      "source": [
        "#**1. Descarga de Modelos Entrenados (Logistic Regression, Random Forest) e imagenes**"
      ],
      "metadata": {
        "id": "_2kB0GZd0fft"
      }
    },
    {
      "cell_type": "code",
      "source": [
        "import gdown, pathlib, textwrap\n",
        "\n",
        "files = {\n",
        "    \"categoricas_vs_resultado.png\":      \"1YnB_ySKFJYy_JSPsxWvOnbyTji0slu-X\",\n",
        "    \"distribucion_resultado.png\":        \"17Itasm7NfPrgHG4n7dKfO0Hubdeo2F-I\",\n",
        "    \"distribucion_variables_numericas.png\":\"1crPz1d8lHjMckgqNGpDoT4HQg-qVB-4L\",\n",
        "    \"matrices_confusion.png\":            \"1NJ4dNfD9QgYqHtO7p5sMsbUadGYq-nFx\",\n",
        "    \"matriz_correlacion.png\":            \"1RC3F1HppODuQVQ-KozEaf6rDh-lrWT5U\",\n",
        "    \"logreg_model.pkl\":                  \"1rDw4bxGrVBsOXzJ--e9eiJOFyPFjeo-_\",\n",
        "    \"rf_model.pkl\":                      \"1EG4AsDcnLL0XRhQbp9N_nRZMTOZkXZ0e\"\n",
        "}\n",
        "\n",
        "for fname, fid in files.items():\n",
        "    url = f\"https://drive.google.com/uc?id={fid}\"\n",
        "    if not pathlib.Path(fname).exists():\n",
        "        gdown.download(url, fname, quiet=False)\n"
      ],
      "metadata": {
        "id": "8CXME0BL0f1d",
        "colab": {
          "base_uri": "https://localhost:8080/"
        },
        "outputId": "a4d9da72-c8e8-455b-a00a-7879cdf74a22"
      },
      "execution_count": null,
      "outputs": [
        {
          "output_type": "stream",
          "name": "stderr",
          "text": [
            "Downloading...\n",
            "From: https://drive.google.com/uc?id=1YnB_ySKFJYy_JSPsxWvOnbyTji0slu-X\n",
            "To: /content/categoricas_vs_resultado.png\n",
            "100%|██████████| 267k/267k [00:00<00:00, 26.8MB/s]\n",
            "Downloading...\n",
            "From: https://drive.google.com/uc?id=17Itasm7NfPrgHG4n7dKfO0Hubdeo2F-I\n",
            "To: /content/distribucion_resultado.png\n",
            "100%|██████████| 17.0k/17.0k [00:00<00:00, 5.18MB/s]\n",
            "Downloading...\n",
            "From: https://drive.google.com/uc?id=1crPz1d8lHjMckgqNGpDoT4HQg-qVB-4L\n",
            "To: /content/distribucion_variables_numericas.png\n",
            "100%|██████████| 236k/236k [00:00<00:00, 68.6MB/s]\n",
            "Downloading...\n",
            "From: https://drive.google.com/uc?id=1NJ4dNfD9QgYqHtO7p5sMsbUadGYq-nFx\n",
            "To: /content/matrices_confusion.png\n",
            "100%|██████████| 20.4k/20.4k [00:00<00:00, 26.1MB/s]\n",
            "Downloading...\n",
            "From: https://drive.google.com/uc?id=1RC3F1HppODuQVQ-KozEaf6rDh-lrWT5U\n",
            "To: /content/matriz_correlacion.png\n",
            "100%|██████████| 134k/134k [00:00<00:00, 67.9MB/s]\n",
            "Downloading...\n",
            "From: https://drive.google.com/uc?id=1rDw4bxGrVBsOXzJ--e9eiJOFyPFjeo-_\n",
            "To: /content/logreg_model.pkl\n",
            "100%|██████████| 1.26k/1.26k [00:00<00:00, 3.08MB/s]\n",
            "Downloading...\n",
            "From: https://drive.google.com/uc?id=1EG4AsDcnLL0XRhQbp9N_nRZMTOZkXZ0e\n",
            "To: /content/rf_model.pkl\n",
            "100%|██████████| 6.69M/6.69M [00:00<00:00, 171MB/s]\n"
          ]
        }
      ]
    },
    {
      "cell_type": "markdown",
      "source": [
        "#**2.  Instalación de Dependencias para la App Web (Streamlit y Pyngrok)**"
      ],
      "metadata": {
        "id": "oSM4qAkH3M-9"
      }
    },
    {
      "cell_type": "code",
      "source": [
        "!pip -q install --upgrade streamlit pyngrok"
      ],
      "metadata": {
        "id": "1A-J7mLQ0kBI",
        "colab": {
          "base_uri": "https://localhost:8080/"
        },
        "outputId": "13fe8b1f-1940-4e76-fe90-1e1408df69a9"
      },
      "execution_count": null,
      "outputs": [
        {
          "output_type": "stream",
          "name": "stdout",
          "text": [
            "\u001b[2K     \u001b[90m━━━━━━━━━━━━━━━━━━━━━━━━━━━━━━━━━━━━━━━━\u001b[0m \u001b[32m44.3/44.3 kB\u001b[0m \u001b[31m1.8 MB/s\u001b[0m eta \u001b[36m0:00:00\u001b[0m\n",
            "\u001b[2K   \u001b[90m━━━━━━━━━━━━━━━━━━━━━━━━━━━━━━━━━━━━━━━━\u001b[0m \u001b[32m9.9/9.9 MB\u001b[0m \u001b[31m65.0 MB/s\u001b[0m eta \u001b[36m0:00:00\u001b[0m\n",
            "\u001b[2K   \u001b[90m━━━━━━━━━━━━━━━━━━━━━━━━━━━━━━━━━━━━━━━━\u001b[0m \u001b[32m6.9/6.9 MB\u001b[0m \u001b[31m91.2 MB/s\u001b[0m eta \u001b[36m0:00:00\u001b[0m\n",
            "\u001b[2K   \u001b[90m━━━━━━━━━━━━━━━━━━━━━━━━━━━━━━━━━━━━━━━━\u001b[0m \u001b[32m79.1/79.1 kB\u001b[0m \u001b[31m5.5 MB/s\u001b[0m eta \u001b[36m0:00:00\u001b[0m\n",
            "\u001b[?25h"
          ]
        }
      ]
    },
    {
      "cell_type": "markdown",
      "source": [
        "#**3. Definición de app.py: Interfaz Streamlit**"
      ],
      "metadata": {
        "id": "YfBP11cz3Rad"
      }
    },
    {
      "cell_type": "code",
      "source": [
        "%%writefile app.py\n",
        "import streamlit as st\n",
        "import pandas as pd\n",
        "import joblib\n",
        "from PIL import Image\n",
        "from pathlib import Path\n",
        "\n",
        "# ---------- Config & título ----------\n",
        "st.set_page_config(page_title=\"Informe CDT\", layout=\"wide\")\n",
        "st.title(\"📊 Informe Interactivo - Predicción de Contratación de CDT\")\n",
        "\n",
        "st.markdown(\n",
        "\"\"\"\n",
        "Este informe presenta los resultados del proyecto de Machine Learning aplicado a una base de datos de telemercadeo bancario.\n",
        "El objetivo fue predecir si un cliente aceptará la contratación de un depósito a término (CDT).\n",
        "\n",
        "Se utilizó un enfoque de clasificación supervisada, combinando análisis exploratorio, modelado y visualizaciones para una interpretación clara de los resultados.\n",
        "\"\"\"\n",
        ")\n",
        "\n",
        "# ---------- Helper para carga segura ----------\n",
        "# ---------- Helper para carga segura ----------\n",
        "def safe_image(path: str, caption: str):\n",
        "    p = Path(path)\n",
        "    if p.exists():\n",
        "        st.image(Image.open(p),\n",
        "                 caption=caption,\n",
        "                 use_container_width=True)   # ← aquí el cambio\n",
        "    else:\n",
        "        st.warning(f\"⚠️ No se encontró **{p.name}**\")\n",
        "\n",
        "\n",
        "# ---------- Distribución variable objetivo ----------\n",
        "st.header(\"🎯 Distribución de la variable objetivo\")\n",
        "safe_image(\"distribucion_resultado.png\", \"Distribución de clases 'si' y 'no'\")\n",
        "\n",
        "# ---------- Variables numéricas ----------\n",
        "st.header(\"📈 Distribución de variables numéricas\")\n",
        "safe_image(\"distribucion_variables_numericas.png\", \"Histograma de variables numéricas\")\n",
        "\n",
        "# ---------- Variables categóricas ----------\n",
        "st.header(\"📚 Análisis de variables categóricas vs. resultado\")\n",
        "safe_image(\"categoricas_vs_resultado.png\",\n",
        "           \"Distribución de variables categóricas respecto a la variable objetivo\")\n",
        "\n",
        "# ---------- Matriz de correlación ----------\n",
        "st.header(\"🔍 Correlación de variables numéricas con 'resultado'\")\n",
        "st.markdown(\n",
        "\"\"\"\n",
        "Las siguientes variables mostraron correlación moderada con la variable objetivo:\n",
        "\n",
        "* **contactos_previos** (+0.27)\n",
        "* **personas_empleadas** (−0.46)\n",
        "* **tasa_credito_hipotecario** (−0.43)\n",
        "* **tasa_empleo** (−0.42)\n",
        "\n",
        "Variables macroeconómicas con tendencia negativa están asociadas a una mayor aceptación del CDT.\n",
        "\"\"\"\n",
        ")\n",
        "safe_image(\"matriz_correlacion.png\", \"Matriz de correlación\")\n",
        "\n",
        "# ---------- Modelos ajustados ----------\n",
        "st.header(\"🤖 Evaluación de Modelos Ajustados\")\n",
        "safe_image(\"matrices_confusion.png\",\n",
        "           \"Matrices de confusión - Logistic Regression vs Random Forest\")\n",
        "\n",
        "st.markdown(\n",
        "\"\"\"\n",
        "| Modelo               | Accuracy | Precision (si) | Recall (si) | F1-score (si) |\n",
        "|----------------------|---------:|---------------:|------------:|--------------:|\n",
        "| Logistic Regression  | **0.77** | 0.74 | 0.57 | 0.65 |\n",
        "| Random Forest        | **0.79** | 0.78 | 0.58 | 0.66 |\n",
        "\n",
        "El modelo **Random Forest** tuvo el mejor rendimiento final, con un F1-score superior y mayor estabilidad frente al desbalance de clases.\n",
        "\"\"\"\n",
        ")\n",
        "\n",
        "# ---------- Conclusiones ----------\n",
        "st.header(\"✅ Conclusiones\")\n",
        "st.markdown(\n",
        "\"\"\"\n",
        "* El modelo Random Forest demostró ser más efectivo para predecir la contratación del CDT.\n",
        "* La variable `contactos_previos` fue la más influyente de manera positiva.\n",
        "* Las condiciones macroeconómicas parecen influir indirectamente en la aceptación del producto.\n",
        "* El desbalance de clases sugiere que debe usarse F1-score como métrica principal.\n",
        "\n",
        "**Nota:** Esta interfaz fue creada con Streamlit para facilitar la comprensión visual e interactiva de los hallazgos.\n",
        "\"\"\"\n",
        ")\n",
        "\n",
        "st.success(\"Gracias por visitar este informe. Puedes reutilizar el modelo para nuevas predicciones si cargas tus datos y modelos entrenados.\")"
      ],
      "metadata": {
        "colab": {
          "base_uri": "https://localhost:8080/"
        },
        "id": "Wcf07YG60nmE",
        "outputId": "4dc691f2-ed37-43de-be34-10342a98d6f6"
      },
      "execution_count": null,
      "outputs": [
        {
          "output_type": "stream",
          "name": "stdout",
          "text": [
            "Writing app.py\n"
          ]
        }
      ]
    },
    {
      "cell_type": "markdown",
      "source": [
        "#**4.  Iniciar Streamlit en segundo plano (modo servidor)**"
      ],
      "metadata": {
        "id": "6DUo8gBC6D2t"
      }
    },
    {
      "cell_type": "code",
      "source": [
        "# Ejecuta Streamlit en background\n",
        "!streamlit run app.py &> streamlit.log &\n",
        "\n",
        "import time, subprocess, textwrap, os\n",
        "time.sleep(5)   # ⏳ Dale tiempo a que Streamlit levante el servidor\n"
      ],
      "metadata": {
        "id": "L-2u_0f10pte"
      },
      "execution_count": null,
      "outputs": []
    },
    {
      "cell_type": "markdown",
      "source": [
        "#**5. Crear túnel público con ngrok para acceder al dashboard**"
      ],
      "metadata": {
        "id": "h2pfk2P16d25"
      }
    },
    {
      "cell_type": "code",
      "source": [
        "from pyngrok import ngrok\n",
        "\n",
        "#30AuCFa1I7vACIoztgkBn5Fp0nJ_2qkD1vN3fsWcEatGfeReU ---> Token Pipe\n",
        "#\"2xbQ2LIhhqTUCyRMtyHaqy9cZym_inbfFpBVWsG79Gzdy7EA\" --> Token mio\n",
        "\n",
        "ngrok.set_auth_token(\"2xbQ2LIhhqTUCyRMtyHaqy9cZym_inbfFpBVWsG79Gzdy7EA\")  # ← ⚠️ cámbialo si lo revocas\n",
        "public_url = ngrok.connect(8501)  # ⚠️ SOLO el puerto → 8501\n",
        "print(f\"🚀 Tu dashboard está disponible en: {public_url}\")\n"
      ],
      "metadata": {
        "colab": {
          "base_uri": "https://localhost:8080/"
        },
        "id": "qU-oTemg0wsY",
        "outputId": "969e5e2a-75c9-4315-f89a-07144a33d7fb"
      },
      "execution_count": null,
      "outputs": [
        {
          "output_type": "stream",
          "name": "stdout",
          "text": [
            "🚀 Tu dashboard está disponible en: NgrokTunnel: \"https://e6acef5f341d.ngrok-free.app\" -> \"http://localhost:8501\"\n"
          ]
        }
      ]
    }
  ]
}